{
 "cells": [
  {
   "cell_type": "code",
   "execution_count": 2,
   "metadata": {},
   "outputs": [
    {
     "ename": "ModuleNotFoundError",
     "evalue": "No module named 'torch'",
     "output_type": "error",
     "traceback": [
      "\u001b[0;31m---------------------------------------------------------------------------\u001b[0m",
      "\u001b[0;31mModuleNotFoundError\u001b[0m                       Traceback (most recent call last)",
      "\u001b[0;32m<ipython-input-2-cd89ceec006f>\u001b[0m in \u001b[0;36m<module>\u001b[0;34m()\u001b[0m\n\u001b[1;32m      1\u001b[0m \u001b[0;34m\u001b[0m\u001b[0m\n\u001b[0;32m----> 2\u001b[0;31m \u001b[0;32mimport\u001b[0m \u001b[0mtorch\u001b[0m\u001b[0;34m\u001b[0m\u001b[0m\n\u001b[0m\u001b[1;32m      3\u001b[0m \u001b[0;32mfrom\u001b[0m \u001b[0mtorch\u001b[0m\u001b[0;34m.\u001b[0m\u001b[0mautograd\u001b[0m \u001b[0;32mimport\u001b[0m \u001b[0mVariable\u001b[0m\u001b[0;34m\u001b[0m\u001b[0m\n\u001b[1;32m      4\u001b[0m \u001b[0;32mimport\u001b[0m \u001b[0mtorch\u001b[0m\u001b[0;34m.\u001b[0m\u001b[0mnn\u001b[0m \u001b[0;32mas\u001b[0m \u001b[0mnn\u001b[0m\u001b[0;34m\u001b[0m\u001b[0m\n\u001b[1;32m      5\u001b[0m \u001b[0;32mimport\u001b[0m \u001b[0mtorch\u001b[0m\u001b[0;34m.\u001b[0m\u001b[0mnn\u001b[0m\u001b[0;34m.\u001b[0m\u001b[0mfunction\u001b[0m \u001b[0;32mas\u001b[0m \u001b[0mF\u001b[0m\u001b[0;34m\u001b[0m\u001b[0m\n",
      "\u001b[0;31mModuleNotFoundError\u001b[0m: No module named 'torch'"
     ]
    }
   ],
   "source": [
    "\n",
    "import torch\n",
    "from torch.autograd import Variable\n",
    "import torch.nn as nn\n",
    "import torch.nn.function as F"
   ]
  },
  {
   "cell_type": "code",
   "execution_count": 3,
   "metadata": {
    "collapsed": true
   },
   "outputs": [],
   "source": [
    "import tensorflow"
   ]
  },
  {
   "cell_type": "code",
   "execution_count": null,
   "metadata": {
    "collapsed": true
   },
   "outputs": [],
   "source": [
    "# input image size = 227*227\n",
    "\n",
    "class InceptionB(nn.Module):\n",
    "    def __init__(self,in_channels):\n",
    "        super(InceptionB,self).__init__()\n",
    "        \n",
    "\n",
    "\n",
    "class InceptionA(nn.Module):\n",
    "    \n",
    "    def __init__(self,in_channels):  \n",
    "        super(InceptionA, self).__init__()\n",
    "        \n",
    "        # Gender\n",
    "        self.conv3g = nn.Conv2D(in_channels, 300, kernel_size = 3)\n",
    "        # relu - 5*5 pooling - 5*5 normalization\n",
    "        self.fc1g = nn.Linear(300*3,512)\n",
    "        self.fc2g = nn.Linear(512,1)\n",
    "\n",
    "        # Nose\n",
    "        self.conv3n = nn.Conv2D(in_channels, 300, kernel_size = 3)\n",
    "        self.fc1n = nn.Linear(300*3,512)\n",
    "        self.fc2n = nn.Linear(512,2)\n",
    "\n",
    "        # Eyes \n",
    "        self.conv3e = nn.Conv2D(in_channels, 300, kernel_size = 3)\n",
    "        self.fc1e = nn.Linear(300*3,512)\n",
    "        self.fc2e = nn.Linear(512,5)\n",
    "\n",
    "        # Face\n",
    "        self.conv3f = nn.Conv2D(in_channels, 300, kernel_size = 3)\n",
    "        self.fc1f = nn.Linear(300*3,512)\n",
    "        self.fc2f = nn.Linear(512,6)\n",
    "\n",
    "        # Mouth \n",
    "        self.conv3m = nn.Conv2D(in_channels, 300, kernel_size = 3)\n",
    "        self.fc1m = nn.Linear(300*3,512)\n",
    "        self.fc2m = nn.Linear(512,4)\n",
    "\n",
    "        # Others\n",
    "        self.conv3o = nn.Conv2D(in_channels, 300, kernel_size = 3)\n",
    "        \n",
    "\n",
    "    def forward(self,x):\n",
    "        branch1 = self.conv3g(x)\n",
    "        \n",
    "        x = F.relu(self.fc1e(x))\n",
    "        x = F.dropout(p=0.5)\n",
    "#         x = F.relu(self.fc2e(x))\n",
    "#         x = F.dropout(p=0.5)\n",
    "        x = self.fc2e(x)\n",
    "        \n",
    "\n",
    "class Net(nn.Module):\n",
    "    def __init__(self):\n",
    "        super(Net, self).__init__()\n",
    "        # relu - 3*3 max pooling - 5*5 normalization\n",
    "        self.conv1 = nn.Conv2D(1, 75, kernel_size = 7)\n",
    "        # relu - 3*3 pooling - 5*5 normalization\n",
    "        self.conv2 = nn.Conv2D(75, 200, kernel_size = 5)\n",
    "        \n",
    "        #inception in_channels = 200\n",
    "        self.conv2_drop = nn.Dropout2d()\n",
    "    \n",
    "    def forward(self, x):\n",
    "        x = F.max_pool2d(F.relu(self.conv1(x)),(3,3))\n",
    "        x = F.max_pool2d(F.relu(self.conv2(x)),(3,3))\n",
    "        \n",
    "    \n",
    "    "
   ]
  }
 ],
 "metadata": {
  "kernelspec": {
   "display_name": "Python 3",
   "language": "python",
   "name": "python3"
  },
  "language_info": {
   "codemirror_mode": {
    "name": "ipython",
    "version": 3
   },
   "file_extension": ".py",
   "mimetype": "text/x-python",
   "name": "python",
   "nbconvert_exporter": "python",
   "pygments_lexer": "ipython3",
   "version": "3.6.1"
  }
 },
 "nbformat": 4,
 "nbformat_minor": 2
}
